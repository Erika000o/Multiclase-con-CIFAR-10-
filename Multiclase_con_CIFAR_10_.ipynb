{
  "nbformat": 4,
  "nbformat_minor": 0,
  "metadata": {
    "colab": {
      "provenance": [],
      "gpuType": "V28",
      "authorship_tag": "ABX9TyOZ2ycLSjTMsOeZvyZfABXk",
      "include_colab_link": true
    },
    "kernelspec": {
      "name": "python3",
      "display_name": "Python 3"
    },
    "language_info": {
      "name": "python"
    },
    "accelerator": "TPU"
  },
  "cells": [
    {
      "cell_type": "markdown",
      "metadata": {
        "id": "view-in-github",
        "colab_type": "text"
      },
      "source": [
        "<a href=\"https://colab.research.google.com/github/Erika000o/Multiclase-con-CIFAR-10-/blob/main/Multiclase_con_CIFAR_10_.ipynb\" target=\"_parent\"><img src=\"https://colab.research.google.com/assets/colab-badge.svg\" alt=\"Open In Colab\"/></a>"
      ]
    },
    {
      "cell_type": "code",
      "execution_count": 1,
      "metadata": {
        "id": "Ie2ya0v5fsFG"
      },
      "outputs": [],
      "source": [
        "import tensorflow as tf\n",
        "from tensorflow.keras import datasets, layers, models\n",
        "import matplotlib.pyplot as plt\n"
      ]
    },
    {
      "cell_type": "code",
      "source": [
        "#2. Cargar y preprocesar el dataset CIFAR-10\n",
        "(x_train, y_train), (x_test, y_test) = datasets.cifar10.load_data()\n",
        "\n",
        "# Normalizar las imágenes a valores entre 0 y 1\n",
        "x_train, x_test = x_train / 255.0, x_test / 255.0\n"
      ],
      "metadata": {
        "id": "hq3bd-u0iXZN"
      },
      "execution_count": 6,
      "outputs": []
    },
    {
      "cell_type": "code",
      "source": [
        "#3. Definir la arquitectura de la red neuronal convolucional (CNN)\n",
        "model = models.Sequential()\n",
        "\n",
        "# Primera capa convolucional\n",
        "model.add(layers.Conv2D(32, (3, 3), activation='relu', input_shape=(32, 32, 3)))\n",
        "\n",
        "# Segunda capa convolucional\n",
        "model.add(layers.Conv2D(64, (3, 3), activation='relu'))\n",
        "\n",
        "# Capa de pooling\n",
        "model.add(layers.MaxPooling2D((2, 2)))\n",
        "\n",
        "# Capa de aplanamiento\n",
        "model.add(layers.Flatten())\n",
        "\n",
        "# Capa densa completamente conectada con 64 neuronas\n",
        "model.add(layers.Dense(64, activation='relu'))\n",
        "\n",
        "# Capa de salida con 10 neuronas (una para cada clase de CIFAR-10)\n",
        "model.add(layers.Dense(10))\n",
        "\n"
      ],
      "metadata": {
        "id": "x0gme_LOimMk"
      },
      "execution_count": 7,
      "outputs": []
    },
    {
      "cell_type": "code",
      "source": [
        "#4. Compilar el modelo\n",
        "model.compile(optimizer='adam',\n",
        "              loss=tf.keras.losses.SparseCategoricalCrossentropy(from_logits=True),\n",
        "              metrics=['accuracy'])\n"
      ],
      "metadata": {
        "id": "e1fNroOli588"
      },
      "execution_count": 8,
      "outputs": []
    },
    {
      "cell_type": "code",
      "source": [
        "#5.Entrenar el modelo\n",
        "history = model.fit(x_train, y_train, epochs=10,\n",
        "                    validation_data=(x_test, y_test))\n",
        "\n"
      ],
      "metadata": {
        "colab": {
          "base_uri": "https://localhost:8080/"
        },
        "id": "3qefBQMRi_Cy",
        "outputId": "5b621a5e-ed16-47aa-cba3-174c31d1859b"
      },
      "execution_count": 5,
      "outputs": [
        {
          "output_type": "stream",
          "name": "stdout",
          "text": [
            "Epoch 1/10\n",
            "1563/1563 [==============================] - 27s 17ms/step - loss: 1.3815 - accuracy: 0.5059 - val_loss: 1.0745 - val_accuracy: 0.6192\n",
            "Epoch 2/10\n",
            "1563/1563 [==============================] - 25s 16ms/step - loss: 0.9945 - accuracy: 0.6528 - val_loss: 0.9674 - val_accuracy: 0.6597\n",
            "Epoch 3/10\n",
            "1563/1563 [==============================] - 24s 16ms/step - loss: 0.8593 - accuracy: 0.6999 - val_loss: 0.9443 - val_accuracy: 0.6762\n",
            "Epoch 4/10\n",
            "1563/1563 [==============================] - 24s 15ms/step - loss: 0.7631 - accuracy: 0.7358 - val_loss: 0.9232 - val_accuracy: 0.6833\n",
            "Epoch 5/10\n",
            "1563/1563 [==============================] - 25s 16ms/step - loss: 0.6746 - accuracy: 0.7666 - val_loss: 0.9543 - val_accuracy: 0.6855\n",
            "Epoch 6/10\n",
            "1563/1563 [==============================] - 25s 16ms/step - loss: 0.5898 - accuracy: 0.7941 - val_loss: 0.9819 - val_accuracy: 0.6812\n",
            "Epoch 7/10\n",
            "1563/1563 [==============================] - 25s 16ms/step - loss: 0.5148 - accuracy: 0.8210 - val_loss: 1.0536 - val_accuracy: 0.6724\n",
            "Epoch 8/10\n",
            "1563/1563 [==============================] - 25s 16ms/step - loss: 0.4426 - accuracy: 0.8451 - val_loss: 1.1725 - val_accuracy: 0.6726\n",
            "Epoch 9/10\n",
            "1563/1563 [==============================] - 25s 16ms/step - loss: 0.3742 - accuracy: 0.8691 - val_loss: 1.2621 - val_accuracy: 0.6631\n",
            "Epoch 10/10\n",
            "1563/1563 [==============================] - 25s 16ms/step - loss: 0.3179 - accuracy: 0.8886 - val_loss: 1.3474 - val_accuracy: 0.6646\n"
          ]
        }
      ]
    },
    {
      "cell_type": "code",
      "source": [
        "#6. Evaluar el modelo\n",
        "test_loss, test_acc = model.evaluate(x_test, y_test, verbose=2)\n",
        "\n",
        "print(f'Precisión en el conjunto de prueba: {test_acc}')\n"
      ],
      "metadata": {
        "colab": {
          "base_uri": "https://localhost:8080/"
        },
        "id": "Ej9ATxpQjMe_",
        "outputId": "6eaa355f-fb3c-4a65-a72e-b5594c888b09"
      },
      "execution_count": 9,
      "outputs": [
        {
          "output_type": "stream",
          "name": "stdout",
          "text": [
            "313/313 - 2s - loss: 2.3035 - accuracy: 0.1108 - 2s/epoch - 5ms/step\n",
            "Precisión en el conjunto de prueba: 0.11079999804496765\n"
          ]
        }
      ]
    },
    {
      "cell_type": "code",
      "source": [
        "# 7. Graficar el historial de precisión y pérdida\n",
        "plt.plot(history.history['accuracy'], label='Precisión entrenamiento')\n",
        "plt.plot(history.history['val_accuracy'], label = 'Precisión validación')\n",
        "plt.xlabel('Épocas')\n",
        "plt.ylabel('Precisión')\n",
        "plt.ylim([0, 1])\n",
        "plt.legend(loc='lower right')\n",
        "plt.show()\n"
      ],
      "metadata": {
        "colab": {
          "base_uri": "https://localhost:8080/",
          "height": 457
        },
        "id": "C6dXLDRfjcpK",
        "outputId": "3a3052b9-14ff-44b0-daa0-da24e00a1267"
      },
      "execution_count": 10,
      "outputs": [
        {
          "output_type": "display_data",
          "data": {
            "text/plain": [
              "<Figure size 640x480 with 1 Axes>"
            ],
            "image/png": "[encoded data removed]"
          },
          "metadata": {}
        }
      ]
    }
  ]
}